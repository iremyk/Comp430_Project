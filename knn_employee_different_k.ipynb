{
 "cells": [
  {
   "cell_type": "markdown",
   "metadata": {},
   "source": [
    "# K Nearest Neighbors on Anonymized Employee Datasets with k={3,5,10,20,50}"
   ]
  },
  {
   "cell_type": "code",
   "execution_count": 1,
   "metadata": {},
   "outputs": [
    {
     "name": "stderr",
     "output_type": "stream",
     "text": [
      "/var/folders/dw/pfbgqvcn34zbfx6rtv1j5n680000gn/T/ipykernel_91063/3413586779.py:2: DeprecationWarning: \n",
      "Pyarrow will become a required dependency of pandas in the next major release of pandas (pandas 3.0),\n",
      "(to allow more performant data types, such as the Arrow string type, and better interoperability with other libraries)\n",
      "but was not found to be installed on your system.\n",
      "If this would cause problems for you,\n",
      "please provide us feedback at https://github.com/pandas-dev/pandas/issues/54466\n",
      "        \n",
      "  import pandas as pd\n"
     ]
    }
   ],
   "source": [
    "import numpy as np\n",
    "import pandas as pd\n",
    "import matplotlib.pyplot as plt\n",
    "from sklearn import preprocessing\n",
    "from sklearn.model_selection import train_test_split\n",
    "from sklearn.ensemble import RandomForestClassifier, GradientBoostingClassifier, AdaBoostClassifier\n",
    "from sklearn.neighbors import KNeighborsClassifier\n",
    "from sklearn.model_selection import GridSearchCV"
   ]
  },
  {
   "cell_type": "code",
   "execution_count": 2,
   "metadata": {},
   "outputs": [],
   "source": [
    "def encode(dataframes):\n",
    "    for df in dataframes:\n",
    "        education = preprocessing.LabelEncoder().fit(df['Education'])\n",
    "        df['Education'] = education.transform(df['Education'])\n",
    "\n",
    "        city = preprocessing.LabelEncoder().fit(df['City'])\n",
    "        df['City'] = city.transform(df['City'])\n",
    "\n",
    "        gender = preprocessing.LabelEncoder().fit(df['Gender'])\n",
    "        df['Gender'] = gender.transform(df['Gender'])\n",
    "\n",
    "        ever_benched = preprocessing.LabelEncoder().fit(df['EverBenched'])\n",
    "        df['EverBenched'] = ever_benched.transform(df['EverBenched'])\n",
    "\n",
    "        experience = preprocessing.LabelEncoder().fit(df['ExperienceInCurrentDomain'])\n",
    "        df['ExperienceInCurrentDomain'] = experience.transform(df['ExperienceInCurrentDomain'])\n",
    "\n",
    "        joining_year = preprocessing.LabelEncoder().fit(df['JoiningYear'])\n",
    "        df['JoiningYear'] = joining_year.transform(df['JoiningYear'])\n",
    "\n",
    "        payment_tier = preprocessing.LabelEncoder().fit(df['PaymentTier'])\n",
    "        df['PaymentTier'] = payment_tier.transform(df['PaymentTier'])\n",
    "\n",
    "        age = preprocessing.LabelEncoder().fit(df['Age'])\n",
    "        df['Age'] = age.transform(df['Age'])\n",
    "\n",
    "        leave = preprocessing.LabelEncoder().fit(df['LeaveOrNot'])\n",
    "        df['LeaveOrNot'] = leave.transform(df['LeaveOrNot'])\n",
    "\n"
   ]
  },
  {
   "cell_type": "code",
   "execution_count": 3,
   "metadata": {},
   "outputs": [],
   "source": [
    "def read_csvs(anonymizer):\n",
    "    dataframes = []\n",
    "    for i in [3,5,10,20,50]:\n",
    "        dataframes.append(pd.read_csv(\"Employee/EmployeeDatasets/\" + anonymizer + \"_\" + str(i) + \".csv\"))\n",
    "    return dataframes"
   ]
  },
  {
   "cell_type": "code",
   "execution_count": 4,
   "metadata": {},
   "outputs": [],
   "source": [
    "# Define variables to store results\n",
    "all_acc = {}\n",
    "avg_acc_for_anonymizer = {}\n",
    "avg_acc_for_k = {}"
   ]
  },
  {
   "cell_type": "markdown",
   "metadata": {},
   "source": [
    "## Read datasets randomized with random anonymizer"
   ]
  },
  {
   "cell_type": "code",
   "execution_count": 5,
   "metadata": {},
   "outputs": [],
   "source": [
    "# Read randomized datasets for random anonymization\n",
    "dataframes = read_csvs(\"random\")"
   ]
  },
  {
   "cell_type": "code",
   "execution_count": 6,
   "metadata": {},
   "outputs": [],
   "source": [
    "encode(dataframes)"
   ]
  },
  {
   "cell_type": "code",
   "execution_count": 7,
   "metadata": {},
   "outputs": [
    {
     "name": "stdout",
     "output_type": "stream",
     "text": [
      "KNN Classifier on Employee Dataset\n",
      "KNN on Random Anonymized Employee Dataset with k = 3\n",
      "Accuracy on test set: 0.6\n",
      "KNN on Random Anonymized Employee Dataset with k = 5\n",
      "Accuracy on test set: 0.65\n",
      "KNN on Random Anonymized Employee Dataset with k = 10\n",
      "Accuracy on test set: 0.64\n",
      "KNN on Random Anonymized Employee Dataset with k = 20\n",
      "Accuracy on test set: 0.64\n",
      "KNN on Random Anonymized Employee Dataset with k = 50\n",
      "Accuracy on test set: 0.64\n"
     ]
    }
   ],
   "source": [
    "k = [3,5,10,20,50]\n",
    "i = 0\n",
    "accuracy = {}\n",
    "print(\"KNN Classifier on Employee Dataset\")\n",
    "for df in dataframes:\n",
    "    print(\"KNN on Random Anonymized Employee Dataset with k = \" + str(k[i]))\n",
    "    X = df[['Education', 'JoiningYear', 'City', 'PaymentTier', 'Age' ,'Gender', 'EverBenched', 'ExperienceInCurrentDomain']]\n",
    "    y = df['LeaveOrNot'].values\n",
    "\n",
    "    X_train, X_test, y_train, y_test = train_test_split(X, y, test_size=0.20, random_state=42, stratify = y)\n",
    "\n",
    "    # K Nearest Neighbors Classifier on Employee Dataset\n",
    "    knn = KNeighborsClassifier(metric='minkowski')\n",
    "    param_grid = {'n_neighbors': list(range(3,51))}\n",
    "    grid_knn = GridSearchCV(knn, param_grid, cv=5, refit=True)\n",
    "    grid_knn.fit(X_train, y_train)\n",
    "\n",
    "    \n",
    "    knn = grid_knn.best_estimator_\n",
    "    acc = knn.score(X_test, y_test)\n",
    "\n",
    "    print(\"Accuracy on test set: \" + str(acc))\n",
    "    accuracy[k[i]] = acc\n",
    "    i += 1\n",
    "\n",
    "all_acc[\"Random\"] = accuracy\n",
    "avg_acc_for_anonymizer[\"Random\"] = np.mean(list(accuracy.values()))\n"
   ]
  },
  {
   "cell_type": "markdown",
   "metadata": {},
   "source": [
    "## Read datasets randomized with clustering randomizer"
   ]
  },
  {
   "cell_type": "code",
   "execution_count": 8,
   "metadata": {},
   "outputs": [],
   "source": [
    "dataframes = read_csvs(\"clustering\")"
   ]
  },
  {
   "cell_type": "code",
   "execution_count": 9,
   "metadata": {},
   "outputs": [],
   "source": [
    "encode(dataframes)"
   ]
  },
  {
   "cell_type": "code",
   "execution_count": 10,
   "metadata": {},
   "outputs": [
    {
     "name": "stdout",
     "output_type": "stream",
     "text": [
      "KNN Classifier on Employee Dataset\n",
      "KNN on Clustering Anonymized Employee Dataset with k = 3\n",
      "Accuracy on test set: 0.67\n",
      "KNN on Clustering Anonymized Employee Dataset with k = 5\n",
      "Accuracy on test set: 0.66\n",
      "KNN on Clustering Anonymized Employee Dataset with k = 10\n",
      "Accuracy on test set: 0.75\n",
      "KNN on Clustering Anonymized Employee Dataset with k = 20\n",
      "Accuracy on test set: 0.79\n",
      "KNN on Clustering Anonymized Employee Dataset with k = 50\n",
      "Accuracy on test set: 0.56\n"
     ]
    }
   ],
   "source": [
    "k = [3,5,10,20,50]\n",
    "i = 0\n",
    "accuracy = {}\n",
    "print(\"KNN Classifier on Employee Dataset\")\n",
    "for df in dataframes:\n",
    "    print(\"KNN on Clustering Anonymized Employee Dataset with k = \" + str(k[i]))\n",
    "    X = df[['Education', 'JoiningYear', 'City', 'PaymentTier', 'Age' ,'Gender', 'EverBenched', 'ExperienceInCurrentDomain']]\n",
    "    y = df['LeaveOrNot'].values\n",
    "\n",
    "    X_train, X_test, y_train, y_test = train_test_split(X, y, test_size=0.20, random_state=42, stratify = y)\n",
    "\n",
    "    # K Nearest Neighbors Classifier on Employee Dataset\n",
    "    knn = KNeighborsClassifier(metric='minkowski')\n",
    "    param_grid = {'n_neighbors': list(range(3,51))}\n",
    "    grid_knn = GridSearchCV(knn, param_grid, cv=5, refit=True)\n",
    "    grid_knn.fit(X_train, y_train)\n",
    "\n",
    "    \n",
    "    knn = grid_knn.best_estimator_\n",
    "    acc = knn.score(X_test, y_test)\n",
    "\n",
    "    print(\"Accuracy on test set: \" + str(acc))\n",
    "    accuracy[k[i]] = acc\n",
    "    i += 1\n",
    "\n",
    "all_acc[\"Clustering\"] = accuracy\n",
    "avg_acc_for_anonymizer[\"Clustering\"] = np.mean(list(accuracy.values()))\n"
   ]
  },
  {
   "cell_type": "markdown",
   "metadata": {},
   "source": [
    "## Read datasets randomized with topdown anonymizer"
   ]
  },
  {
   "cell_type": "code",
   "execution_count": 11,
   "metadata": {},
   "outputs": [],
   "source": [
    "dataframes = read_csvs(\"topdown\")"
   ]
  },
  {
   "cell_type": "code",
   "execution_count": 12,
   "metadata": {},
   "outputs": [],
   "source": [
    "encode(dataframes)"
   ]
  },
  {
   "cell_type": "code",
   "execution_count": 13,
   "metadata": {},
   "outputs": [
    {
     "name": "stdout",
     "output_type": "stream",
     "text": [
      "KNN Classifier on Employee Dataset\n",
      "KNN on Topdown Anonymized Employee Dataset with k = 3\n",
      "Accuracy on test set: 1.0\n",
      "KNN on Topdown Anonymized Employee Dataset with k = 5\n",
      "Accuracy on test set: 1.0\n",
      "KNN on Topdown Anonymized Employee Dataset with k = 10\n",
      "Accuracy on test set: 1.0\n",
      "KNN on Topdown Anonymized Employee Dataset with k = 20\n",
      "Accuracy on test set: 1.0\n",
      "KNN on Topdown Anonymized Employee Dataset with k = 50\n",
      "Accuracy on test set: 1.0\n"
     ]
    }
   ],
   "source": [
    "k = [3,5,10,20,50]\n",
    "i = 0\n",
    "accuracy = {}\n",
    "print(\"KNN Classifier on Employee Dataset\")\n",
    "for df in dataframes:\n",
    "    print(\"KNN on Topdown Anonymized Employee Dataset with k = \" + str(k[i]))\n",
    "    X = df[['Education', 'JoiningYear', 'City', 'PaymentTier', 'Age' ,'Gender', 'EverBenched', 'ExperienceInCurrentDomain']]\n",
    "    y = df['LeaveOrNot'].values\n",
    "\n",
    "    X_train, X_test, y_train, y_test = train_test_split(X, y, test_size=0.20, random_state=42, stratify = y)\n",
    "\n",
    "    # K Nearest Neighbors Classifier on Employee Dataset\n",
    "    knn = KNeighborsClassifier(metric='minkowski')\n",
    "    param_grid = {'n_neighbors': list(range(3,51))}\n",
    "    grid_knn = GridSearchCV(knn, param_grid, cv=5, refit=True)\n",
    "    grid_knn.fit(X_train, y_train)\n",
    "\n",
    "    \n",
    "    knn = grid_knn.best_estimator_\n",
    "    acc = knn.score(X_test, y_test)\n",
    "\n",
    "    print(\"Accuracy on test set: \" + str(acc))\n",
    "    accuracy[k[i]] = acc\n",
    "    i += 1\n",
    "\n",
    "all_acc[\"Top-down\"] = accuracy\n",
    "avg_acc_for_anonymizer[\"Top-down\"] = np.mean(list(accuracy.values()))\n"
   ]
  },
  {
   "cell_type": "markdown",
   "metadata": {},
   "source": [
    "## Plotting"
   ]
  },
  {
   "cell_type": "code",
   "execution_count": 14,
   "metadata": {},
   "outputs": [
    {
     "data": {
      "image/png": "[encoded data removed]",
      "text/plain": [
       "<Figure size 640x480 with 1 Axes>"
      ]
     },
     "metadata": {},
     "output_type": "display_data"
    }
   ],
   "source": [
    "# Plot Knn avg accuracy for different anonymization techniques\n",
    "plt.bar(range(len(avg_acc_for_anonymizer)), list(avg_acc_for_anonymizer.values()), align='center')\n",
    "plt.xticks(range(len(avg_acc_for_anonymizer)), list(avg_acc_for_anonymizer.keys()))\n",
    "plt.title(\"KNN Classifier on Employee Dataset\")\n",
    "plt.xlabel(\"Anonymization Technique\")\n",
    "plt.ylabel(\"Avg Accuracy\")\n",
    "plt.savefig(\"Figures/knn_avg_acc_3_anonymization_technique_employee.png\")\n",
    "plt.show()"
   ]
  },
  {
   "cell_type": "code",
   "execution_count": 15,
   "metadata": {},
   "outputs": [
    {
     "data": {
      "image/png": "[encoded data removed]",
      "text/plain": [
       "<Figure size 640x480 with 1 Axes>"
      ]
     },
     "metadata": {},
     "output_type": "display_data"
    }
   ],
   "source": [
    "# Plot knn accuracy for different k values for each anonymization technique\n",
    "plt.plot(k, list(all_acc[\"Random\"].values()), label=\"Random\")\n",
    "plt.plot(k, list(all_acc[\"Clustering\"].values()), label=\"Clustering\")\n",
    "plt.plot(k, list(all_acc[\"Top-down\"].values()), label=\"Top-down\")\n",
    "plt.title(\"KNN Classifier on Employee Dataset\")\n",
    "plt.xlabel(\"k\")\n",
    "plt.ylabel(\"Accuracy\")\n",
    "plt.legend()\n",
    "plt.savefig(\"Figures/knn_acc_for_different_k_employee.png\")\n",
    "plt.show()"
   ]
  },
  {
   "cell_type": "markdown",
   "metadata": {},
   "source": [
    "## Save Results"
   ]
  },
  {
   "cell_type": "code",
   "execution_count": 16,
   "metadata": {},
   "outputs": [],
   "source": [
    "# save results to csv\n",
    "results = pd.DataFrame(all_acc)\n",
    "results.to_csv(\"Employee/knn_results.csv\", index=False)"
   ]
  },
  {
   "cell_type": "code",
   "execution_count": 17,
   "metadata": {},
   "outputs": [
    {
     "data": {
      "text/html": [
       "<div>\n",
       "<style scoped>\n",
       "    .dataframe tbody tr th:only-of-type {\n",
       "        vertical-align: middle;\n",
       "    }\n",
       "\n",
       "    .dataframe tbody tr th {\n",
       "        vertical-align: top;\n",
       "    }\n",
       "\n",
       "    .dataframe thead th {\n",
       "        text-align: right;\n",
       "    }\n",
       "</style>\n",
       "<table border=\"1\" class=\"dataframe\">\n",
       "  <thead>\n",
       "    <tr style=\"text-align: right;\">\n",
       "      <th></th>\n",
       "      <th>Random</th>\n",
       "      <th>Clustering</th>\n",
       "      <th>Top-down</th>\n",
       "    </tr>\n",
       "  </thead>\n",
       "  <tbody>\n",
       "    <tr>\n",
       "      <th>3</th>\n",
       "      <td>0.60</td>\n",
       "      <td>0.67</td>\n",
       "      <td>1.0</td>\n",
       "    </tr>\n",
       "    <tr>\n",
       "      <th>5</th>\n",
       "      <td>0.65</td>\n",
       "      <td>0.66</td>\n",
       "      <td>1.0</td>\n",
       "    </tr>\n",
       "    <tr>\n",
       "      <th>10</th>\n",
       "      <td>0.64</td>\n",
       "      <td>0.75</td>\n",
       "      <td>1.0</td>\n",
       "    </tr>\n",
       "    <tr>\n",
       "      <th>20</th>\n",
       "      <td>0.64</td>\n",
       "      <td>0.79</td>\n",
       "      <td>1.0</td>\n",
       "    </tr>\n",
       "    <tr>\n",
       "      <th>50</th>\n",
       "      <td>0.64</td>\n",
       "      <td>0.56</td>\n",
       "      <td>1.0</td>\n",
       "    </tr>\n",
       "  </tbody>\n",
       "</table>\n",
       "</div>"
      ],
      "text/plain": [
       "    Random  Clustering  Top-down\n",
       "3     0.60        0.67       1.0\n",
       "5     0.65        0.66       1.0\n",
       "10    0.64        0.75       1.0\n",
       "20    0.64        0.79       1.0\n",
       "50    0.64        0.56       1.0"
      ]
     },
     "execution_count": 17,
     "metadata": {},
     "output_type": "execute_result"
    }
   ],
   "source": [
    "results"
   ]
  }
 ],
 "metadata": {
  "kernelspec": {
   "display_name": "Python 3",
   "language": "python",
   "name": "python3"
  },
  "language_info": {
   "codemirror_mode": {
    "name": "ipython",
    "version": 3
   },
   "file_extension": ".py",
   "mimetype": "text/x-python",
   "name": "python",
   "nbconvert_exporter": "python",
   "pygments_lexer": "ipython3",
   "version": "3.9.6"
  }
 },
 "nbformat": 4,
 "nbformat_minor": 2
}
