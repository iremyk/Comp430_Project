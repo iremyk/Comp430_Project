{
 "cells": [
  {
   "cell_type": "markdown",
   "metadata": {},
   "source": [
    "# K Nearest Neighbors on Anonymized Adult Datasets with k={3,5,10,20,50}"
   ]
  },
  {
   "cell_type": "code",
   "execution_count": 1,
   "metadata": {},
   "outputs": [
    {
     "name": "stderr",
     "output_type": "stream",
     "text": [
      "/var/folders/dw/pfbgqvcn34zbfx6rtv1j5n680000gn/T/ipykernel_81070/3413586779.py:2: DeprecationWarning: \n",
      "Pyarrow will become a required dependency of pandas in the next major release of pandas (pandas 3.0),\n",
      "(to allow more performant data types, such as the Arrow string type, and better interoperability with other libraries)\n",
      "but was not found to be installed on your system.\n",
      "If this would cause problems for you,\n",
      "please provide us feedback at https://github.com/pandas-dev/pandas/issues/54466\n",
      "        \n",
      "  import pandas as pd\n"
     ]
    }
   ],
   "source": [
    "import numpy as np\n",
    "import pandas as pd\n",
    "import matplotlib.pyplot as plt\n",
    "from sklearn import preprocessing\n",
    "from sklearn.model_selection import train_test_split\n",
    "from sklearn.ensemble import RandomForestClassifier, GradientBoostingClassifier, AdaBoostClassifier\n",
    "from sklearn.neighbors import KNeighborsClassifier\n",
    "from sklearn.model_selection import GridSearchCV"
   ]
  },
  {
   "cell_type": "code",
   "execution_count": 2,
   "metadata": {},
   "outputs": [],
   "source": [
    "def encode(dataframes):\n",
    "    for df in dataframes:\n",
    "        age = preprocessing.LabelEncoder().fit(df['age'])\n",
    "        df['age'] = age.transform(df['age'])\n",
    "\n",
    "        workclass = preprocessing.LabelEncoder().fit(df['workclass'])\n",
    "        df['workclass'] = workclass.transform(df['workclass'])\n",
    "\n",
    "        maritalStatus = preprocessing.LabelEncoder().fit(df['marital-status'])\n",
    "        df['marital-status'] = maritalStatus.transform(df['marital-status'])\n",
    "\n",
    "        education = preprocessing.LabelEncoder().fit(df['education'])\n",
    "        df['education'] = education.transform(df['education'])\n",
    "\n",
    "        relationship = preprocessing.LabelEncoder().fit(df['relationship'])\n",
    "        df['relationship'] = relationship.transform(df['relationship'])\n",
    "\n",
    "        occupation = preprocessing.LabelEncoder().fit(df['occupation'])\n",
    "        df['occupation'] = occupation.transform(df['occupation'])\n",
    "\n",
    "        sex = preprocessing.LabelEncoder().fit(df['gender'])\n",
    "        df['gender'] = sex.transform(df['gender'])\n",
    "\n",
    "        nc = preprocessing.LabelEncoder().fit(df['native-country'])\n",
    "        df['native-country'] = nc.transform(df['native-country'])\n",
    "\n",
    "        income = preprocessing.LabelEncoder().fit(df['income'])\n",
    "        df['income'] = income.transform(df['income'])"
   ]
  },
  {
   "cell_type": "code",
   "execution_count": 3,
   "metadata": {},
   "outputs": [],
   "source": [
    "def read_csvs(anonymizer):\n",
    "    dataframes = []\n",
    "    for i in [3,5,10,20,50]:\n",
    "        dataframes.append(pd.read_csv(\"MiniAdult/MiniAdultDatasets/\" + anonymizer + \"_\" + str(i) + \".csv\"))\n",
    "    return dataframes"
   ]
  },
  {
   "cell_type": "code",
   "execution_count": 4,
   "metadata": {},
   "outputs": [],
   "source": [
    "# Define variables to store results\n",
    "all_acc = {}\n",
    "avg_acc_for_anonymizer = {}\n",
    "avg_acc_for_k = {}"
   ]
  },
  {
   "cell_type": "markdown",
   "metadata": {},
   "source": [
    "## Read datasets randomized with random anonymizer"
   ]
  },
  {
   "cell_type": "code",
   "execution_count": 5,
   "metadata": {},
   "outputs": [],
   "source": [
    "# Read randomized datasets for random anonymization\n",
    "dataframes = read_csvs(\"random\")"
   ]
  },
  {
   "cell_type": "code",
   "execution_count": 6,
   "metadata": {},
   "outputs": [],
   "source": [
    "encode(dataframes)"
   ]
  },
  {
   "cell_type": "code",
   "execution_count": 7,
   "metadata": {},
   "outputs": [
    {
     "name": "stdout",
     "output_type": "stream",
     "text": [
      "KNN Classifier on Mini Adult Dataset\n",
      "KNN on Random Anonymized Adult Dataset with k = 3\n",
      "Accuracy on test set: 0.77\n",
      "KNN on Random Anonymized Adult Dataset with k = 5\n",
      "Accuracy on test set: 0.77\n",
      "KNN on Random Anonymized Adult Dataset with k = 10\n",
      "Accuracy on test set: 0.77\n",
      "KNN on Random Anonymized Adult Dataset with k = 20\n",
      "Accuracy on test set: 0.77\n",
      "KNN on Random Anonymized Adult Dataset with k = 50\n",
      "Accuracy on test set: 0.77\n"
     ]
    }
   ],
   "source": [
    "k = [3,5,10,20,50]\n",
    "i = 0\n",
    "accuracy = {}\n",
    "print(\"KNN Classifier on Mini Adult Dataset\")\n",
    "for df in dataframes:\n",
    "    print(\"KNN on Random Anonymized Adult Dataset with k = \" + str(k[i]))\n",
    "    X = df[['age', 'education', 'relationship', 'occupation', 'gender', 'native-country']].values\n",
    "    y = df['income'].values\n",
    "\n",
    "    X_train, X_test, y_train, y_test = train_test_split(X, y, test_size=0.20, random_state=42, stratify = y)\n",
    "\n",
    "    # K Nearest Neighbors Classifier on Mini Adult Dataset\n",
    "    knn = KNeighborsClassifier(metric='minkowski')\n",
    "    param_grid = {'n_neighbors': list(range(3,51))}\n",
    "    grid_knn = GridSearchCV(knn, param_grid, cv=5, refit=True)\n",
    "    grid_knn.fit(X_train, y_train)\n",
    "\n",
    "    \n",
    "    knn = grid_knn.best_estimator_\n",
    "    acc = knn.score(X_test, y_test)\n",
    "\n",
    "    print(\"Accuracy on test set: \" + str(acc))\n",
    "    accuracy[k[i]] = acc\n",
    "    i += 1\n",
    "\n",
    "all_acc[\"Random\"] = accuracy\n",
    "avg_acc_for_anonymizer[\"Random\"] = np.mean(list(accuracy.values()))\n"
   ]
  },
  {
   "cell_type": "markdown",
   "metadata": {},
   "source": [
    "## Read datasets randomized with clustering randomizer"
   ]
  },
  {
   "cell_type": "code",
   "execution_count": 8,
   "metadata": {},
   "outputs": [],
   "source": [
    "dataframes = read_csvs(\"clustering\")"
   ]
  },
  {
   "cell_type": "code",
   "execution_count": 9,
   "metadata": {},
   "outputs": [],
   "source": [
    "encode(dataframes)"
   ]
  },
  {
   "cell_type": "code",
   "execution_count": 10,
   "metadata": {},
   "outputs": [
    {
     "name": "stdout",
     "output_type": "stream",
     "text": [
      "KNN Classifier on Mini Adult Dataset\n",
      "KNN on Clustering Anonymized Adult Dataset with k = 3\n",
      "Accuracy on test set: 0.81\n",
      "KNN on Clustering Anonymized Adult Dataset with k = 5\n",
      "Accuracy on test set: 0.73\n",
      "KNN on Clustering Anonymized Adult Dataset with k = 10\n",
      "Accuracy on test set: 0.75\n",
      "KNN on Clustering Anonymized Adult Dataset with k = 20\n",
      "Accuracy on test set: 0.77\n",
      "KNN on Clustering Anonymized Adult Dataset with k = 50\n",
      "Accuracy on test set: 0.76\n"
     ]
    }
   ],
   "source": [
    "k = [3,5,10,20,50]\n",
    "i = 0\n",
    "accuracy = {}\n",
    "print(\"KNN Classifier on Mini Adult Dataset\")\n",
    "for df in dataframes:\n",
    "    print(\"KNN on Clustering Anonymized Adult Dataset with k = \" + str(k[i]))\n",
    "    X = df[['age', 'education', 'relationship', 'occupation', 'gender', 'native-country']].values\n",
    "    y = df['income'].values\n",
    "\n",
    "    X_train, X_test, y_train, y_test = train_test_split(X, y, test_size=0.20, random_state=42, stratify = y)\n",
    "\n",
    "    # K Nearest Neighbors Classifier on Mini Adult Dataset\n",
    "    knn = KNeighborsClassifier(metric='minkowski')\n",
    "    param_grid = {'n_neighbors': list(range(3,51))}\n",
    "    grid_knn = GridSearchCV(knn, param_grid, cv=5, refit=True)\n",
    "    grid_knn.fit(X_train, y_train)\n",
    "\n",
    "    \n",
    "    knn = grid_knn.best_estimator_\n",
    "    acc = knn.score(X_test, y_test)\n",
    "\n",
    "    print(\"Accuracy on test set: \" + str(acc))\n",
    "    accuracy[k[i]] = acc\n",
    "    i += 1\n",
    "\n",
    "all_acc[\"Clustering\"] = accuracy\n",
    "avg_acc_for_anonymizer[\"Clustering\"] = np.mean(list(accuracy.values()))\n"
   ]
  },
  {
   "cell_type": "markdown",
   "metadata": {},
   "source": [
    "## Read datasets randomized with topdown anonymizer"
   ]
  },
  {
   "cell_type": "code",
   "execution_count": 11,
   "metadata": {},
   "outputs": [],
   "source": [
    "dataframes = read_csvs(\"topdown\")"
   ]
  },
  {
   "cell_type": "code",
   "execution_count": 12,
   "metadata": {},
   "outputs": [],
   "source": [
    "encode(dataframes)"
   ]
  },
  {
   "cell_type": "code",
   "execution_count": 13,
   "metadata": {},
   "outputs": [
    {
     "name": "stdout",
     "output_type": "stream",
     "text": [
      "KNN Classifier on Mini Adult Dataset\n",
      "KNN on Topdown Anonymized Adult Dataset with k = 3\n",
      "Accuracy on test set: 0.85\n",
      "KNN on Topdown Anonymized Adult Dataset with k = 5\n",
      "Accuracy on test set: 0.86\n",
      "KNN on Topdown Anonymized Adult Dataset with k = 10\n",
      "Accuracy on test set: 0.77\n",
      "KNN on Topdown Anonymized Adult Dataset with k = 20\n",
      "Accuracy on test set: 0.72\n",
      "KNN on Topdown Anonymized Adult Dataset with k = 50\n",
      "Accuracy on test set: 0.86\n"
     ]
    }
   ],
   "source": [
    "k = [3,5,10,20,50]\n",
    "i = 0\n",
    "accuracy = {}\n",
    "print(\"KNN Classifier on Mini Adult Dataset\")\n",
    "for df in dataframes:\n",
    "    print(\"KNN on Topdown Anonymized Adult Dataset with k = \" + str(k[i]))\n",
    "    X = df[['age', 'education', 'relationship', 'occupation', 'gender', 'native-country']].values\n",
    "    y = df['income'].values\n",
    "\n",
    "    X_train, X_test, y_train, y_test = train_test_split(X, y, test_size=0.20, random_state=42, stratify = y)\n",
    "\n",
    "    # K Nearest Neighbors Classifier on Mini Adult Dataset\n",
    "    knn = KNeighborsClassifier(metric='minkowski')\n",
    "    param_grid = {'n_neighbors': list(range(3,51))}\n",
    "    grid_knn = GridSearchCV(knn, param_grid, cv=5, refit=True)\n",
    "    grid_knn.fit(X_train, y_train)\n",
    "\n",
    "    \n",
    "    knn = grid_knn.best_estimator_\n",
    "    acc = knn.score(X_test, y_test)\n",
    "\n",
    "    print(\"Accuracy on test set: \" + str(acc))\n",
    "    accuracy[k[i]] = acc\n",
    "    i += 1\n",
    "\n",
    "all_acc[\"Top-down\"] = accuracy\n",
    "avg_acc_for_anonymizer[\"Top-down\"] = np.mean(list(accuracy.values()))\n"
   ]
  },
  {
   "cell_type": "markdown",
   "metadata": {},
   "source": [
    "## Plotting"
   ]
  },
  {
   "cell_type": "code",
   "execution_count": 14,
   "metadata": {},
   "outputs": [
    {
     "data": {
      "image/png": "[encoded data removed]",
      "text/plain": [
       "<Figure size 640x480 with 1 Axes>"
      ]
     },
     "metadata": {},
     "output_type": "display_data"
    }
   ],
   "source": [
    "# Plot Knn avg accuracy for different anonymization techniques\n",
    "plt.bar(range(len(avg_acc_for_anonymizer)), list(avg_acc_for_anonymizer.values()), align='center')\n",
    "plt.xticks(range(len(avg_acc_for_anonymizer)), list(avg_acc_for_anonymizer.keys()))\n",
    "plt.title(\"KNN Classifier on Mini Adult Dataset\")\n",
    "plt.xlabel(\"Anonymization Technique\")\n",
    "plt.ylabel(\"Avg Accuracy\")\n",
    "plt.savefig(\"Figures/knn_avg_acc_3_anonymization_techniques.png\")\n",
    "plt.show()"
   ]
  },
  {
   "cell_type": "code",
   "execution_count": 15,
   "metadata": {},
   "outputs": [
    {
     "data": {
      "image/png": "[encoded data removed]",
      "text/plain": [
       "<Figure size 640x480 with 1 Axes>"
      ]
     },
     "metadata": {},
     "output_type": "display_data"
    }
   ],
   "source": [
    "# Plot knn accuracy for different k values for each anonymization technique\n",
    "plt.plot(k, list(all_acc[\"Random\"].values()), label=\"Random\")\n",
    "plt.plot(k, list(all_acc[\"Clustering\"].values()), label=\"Clustering\")\n",
    "plt.plot(k, list(all_acc[\"Top-down\"].values()), label=\"Top-down\")\n",
    "plt.title(\"KNN Classifier on Mini Adult Dataset\")\n",
    "plt.xlabel(\"k\")\n",
    "plt.ylabel(\"Accuracy\")\n",
    "plt.legend()\n",
    "plt.savefig(\"Figures/knn_acc_for_different_k.png\")\n",
    "plt.show()"
   ]
  },
  {
   "cell_type": "markdown",
   "metadata": {},
   "source": [
    "## Save Results"
   ]
  },
  {
   "cell_type": "code",
   "execution_count": 16,
   "metadata": {},
   "outputs": [],
   "source": [
    "# save results to csv\n",
    "results = pd.DataFrame(all_acc)\n",
    "results.to_csv(\"MiniAdult/knn_results.csv\", index=False)"
   ]
  },
  {
   "cell_type": "code",
   "execution_count": 17,
   "metadata": {},
   "outputs": [
    {
     "data": {
      "text/html": [
       "<div>\n",
       "<style scoped>\n",
       "    .dataframe tbody tr th:only-of-type {\n",
       "        vertical-align: middle;\n",
       "    }\n",
       "\n",
       "    .dataframe tbody tr th {\n",
       "        vertical-align: top;\n",
       "    }\n",
       "\n",
       "    .dataframe thead th {\n",
       "        text-align: right;\n",
       "    }\n",
       "</style>\n",
       "<table border=\"1\" class=\"dataframe\">\n",
       "  <thead>\n",
       "    <tr style=\"text-align: right;\">\n",
       "      <th></th>\n",
       "      <th>Random</th>\n",
       "      <th>Clustering</th>\n",
       "      <th>Top-down</th>\n",
       "    </tr>\n",
       "  </thead>\n",
       "  <tbody>\n",
       "    <tr>\n",
       "      <th>3</th>\n",
       "      <td>0.77</td>\n",
       "      <td>0.81</td>\n",
       "      <td>0.85</td>\n",
       "    </tr>\n",
       "    <tr>\n",
       "      <th>5</th>\n",
       "      <td>0.77</td>\n",
       "      <td>0.73</td>\n",
       "      <td>0.86</td>\n",
       "    </tr>\n",
       "    <tr>\n",
       "      <th>10</th>\n",
       "      <td>0.77</td>\n",
       "      <td>0.75</td>\n",
       "      <td>0.77</td>\n",
       "    </tr>\n",
       "    <tr>\n",
       "      <th>20</th>\n",
       "      <td>0.77</td>\n",
       "      <td>0.77</td>\n",
       "      <td>0.72</td>\n",
       "    </tr>\n",
       "    <tr>\n",
       "      <th>50</th>\n",
       "      <td>0.77</td>\n",
       "      <td>0.76</td>\n",
       "      <td>0.86</td>\n",
       "    </tr>\n",
       "  </tbody>\n",
       "</table>\n",
       "</div>"
      ],
      "text/plain": [
       "    Random  Clustering  Top-down\n",
       "3     0.77        0.81      0.85\n",
       "5     0.77        0.73      0.86\n",
       "10    0.77        0.75      0.77\n",
       "20    0.77        0.77      0.72\n",
       "50    0.77        0.76      0.86"
      ]
     },
     "execution_count": 17,
     "metadata": {},
     "output_type": "execute_result"
    }
   ],
   "source": [
    "results"
   ]
  }
 ],
 "metadata": {
  "kernelspec": {
   "display_name": "Python 3",
   "language": "python",
   "name": "python3"
  },
  "language_info": {
   "codemirror_mode": {
    "name": "ipython",
    "version": 3
   },
   "file_extension": ".py",
   "mimetype": "text/x-python",
   "name": "python",
   "nbconvert_exporter": "python",
   "pygments_lexer": "ipython3",
   "version": "3.9.6"
  }
 },
 "nbformat": 4,
 "nbformat_minor": 2
}
